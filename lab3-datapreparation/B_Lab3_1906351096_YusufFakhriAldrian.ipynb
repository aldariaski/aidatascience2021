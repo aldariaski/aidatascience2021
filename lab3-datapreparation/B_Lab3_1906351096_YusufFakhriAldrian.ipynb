{
  "nbformat": 4,
  "nbformat_minor": 0,
  "metadata": {
    "colab": {
      "name": "B_Lab3_1906351096_YusufFakhriAldrian.ipynb",
      "provenance": [],
      "collapsed_sections": [],
      "toc_visible": true
    },
    "kernelspec": {
      "display_name": "Python 3",
      "language": "python",
      "name": "python3"
    },
    "language_info": {
      "codemirror_mode": {
        "name": "ipython",
        "version": 3
      },
      "file_extension": ".py",
      "mimetype": "text/x-python",
      "name": "python",
      "nbconvert_exporter": "python",
      "pygments_lexer": "ipython3",
      "version": "3.8.1"
    }
  },
  "cells": [
    {
      "cell_type": "markdown",
      "metadata": {
        "id": "TKTOBclz75se"
      },
      "source": [
        "<center>\n",
        "<img src=\"https://drive.google.com/uc?id=1f1gGVI-rxcHjA90WEGNvvtSXF1pAxQwg\" alt=\"Fasilkom UI\" width=\"300\"/>\n",
        "\n",
        "CSGE603130 • Kecerdasan Artifisial dan Sains Data Dasar\n",
        "\n",
        "Semester Ganjil 2021/2022\n",
        "\n",
        "Fakultas Ilmu Komputer, Universitas Indonesia\n",
        "\n",
        "##**Lab 3: *Data Preparation***\n",
        "\n",
        "###**Tenggat Waktu: 25 September 2021, 23.55 WIB**\n",
        "</center>\n",
        "\n",
        "####**Ketentuan:**\n",
        "\n",
        "1. Dokumen template lab dengan format .ipynb dan dataset (jika dibutuhkan) telah disediakan di SCeLe\n",
        "2. Jalankan kode pada dokumen .ipynb dan perhatikan dengan saksama apa yang potongan kode tersebut lakukan beserta dengan keluarannya. Jawablah **pertanyaan yang disisipkan** pada potongan program yang diberikan.\n",
        "3. Dokumen Jupyter Notebook yang telah dilengkapi dengan jawaban dikumpulkan dengan format penamaan **Kelas_Lab3_NPM_Nama.ipynb**. Contoh: F_Lab3_1706979341_Lulu Ilmaknun Qurotaini.ipynb\n",
        "4. Kumpulkan dokumen tersebut pada submisi yang telah disediakan di SCeLe sesuai dengan kelas masing-masing sebelum **25 September 2021, 23.55 WIB**. Keterlambatan pengumpulan akan dikenakan penalti.\n",
        "5. Praktikum ini dirancang sebagai **tugas mandiri**. Plagiarisme tidak diperkenankan dalam bentuk apapun. Adapun kolaborasi berupa diskusi (tanpa menyalin maupun mengambil jawaban orang lain) dan literasi masih diperbolehkan dengan mencantumkan kolaborator dan sumber.\n"
      ]
    },
    {
      "cell_type": "markdown",
      "metadata": {
        "id": "HloCaoZB8Hdr"
      },
      "source": [
        "## **Pernyataan Integritas**\n",
        "\n",
        "Wajib diisi. Tanpa pernyataan integritas submisi akan dikenakan pinalti."
      ]
    },
    {
      "cell_type": "code",
      "metadata": {
        "id": "hFvDp8qSz-RU"
      },
      "source": [
        "# Isi dengan data diri Anda\n",
        "NAMA = \"Yusuf Fakhri Aldrian\"\n",
        "KELAS = \"B\"\n",
        "NPM = \"1906351096\"\n",
        "\n",
        "# Isi dengan NPM teman yang berdiskusi dengan Anda\n",
        "KOLABORATOR = [\"1906353776\"]\n",
        "\n",
        "# Isi dengan sumber referensi yang Anda gunakan dalam mengerjakan\n",
        "REFERENSI = [\"https://stackoverflow.com/questions/22391433/count-the-frequency-that-a-value-occurs-in-a-dataframe-column\",\n",
        "             \"https://pandas.pydata.org/pandas-docs/version/1.3/reference/api/pandas.DataFrame.drop_duplicates.html\",\n",
        "             \"https://medium.datadriveninvestor.com/finding-outliers-in-dataset-using-python-efc3fce6ce32\",\n",
        "             \"https://towardsdatascience.com/ways-to-detect-and-remove-the-outliers-404d16608dba\",\n",
        "             \"https://www.statology.org/countif-python/\",\n",
        "             \"https://stackoverflow.com/questions/30836032/why-does-np-percentile-return-nan-for-high-percentiles/45175194\",\n",
        "             \"https://scikit-learn.org/stable/modules/preprocessing.html#standardization-or-mean-removal-and-variance-scaling\",\n",
        "             \"https://www.tutorialspoint.com/machine_learning_with_python/machine_learning_with_python_ltwo_normalization.htm\",\n",
        "             \"https://stats.stackexchange.com/questions/331926/explain-meaning-and-purpose-of-l2-normalization\",\n",
        "             \"https://machinelearningmastery.com/vector-norms-machine-learning/#:~:text=Like%20the%20L1%20norm%2C%20the,vector%20norms%20in%20machine%20learning.\"]"
      ],
      "execution_count": 89,
      "outputs": []
    },
    {
      "cell_type": "code",
      "metadata": {
        "id": "y-k0CCamOkcZ",
        "colab": {
          "base_uri": "https://localhost:8080/"
        },
        "outputId": "39753a3f-9b8c-49ae-c9bc-bd0f71858e39"
      },
      "source": [
        "PERNYATAAN_INTEGRITAS = \"Saya, %s dari kelas %s dengan NPM %s, menyatakan bahwa seluruh jawaban pada pekerjaan ini murni saya kerjakan sendiri.\\n\\\n",
        "Saya tidak mencontek jawaban, memberikan jawaban, maupun menyalin dari sumber manapun.\\n \\\n",
        "\\n\\\n",
        "Jika saya melanggar pernyataan tersebut, saya siap menerima konsekuensi apapun yang diberikan.\\n   \\\n",
        "(%s)\" % (NAMA, KELAS, NPM, NAMA)\n",
        "\n",
        "print(PERNYATAAN_INTEGRITAS)"
      ],
      "execution_count": null,
      "outputs": [
        {
          "output_type": "stream",
          "name": "stdout",
          "text": [
            "Saya, Yusuf Fakhri Aldrian dari kelas B dengan NPM 1906351096, menyatakan bahwa seluruh jawaban pada pekerjaan ini murni saya kerjakan sendiri.\n",
            "Saya tidak mencontek jawaban, memberikan jawaban, maupun menyalin dari sumber manapun.\n",
            " \n",
            "Jika saya melanggar pernyataan tersebut, saya siap menerima konsekuensi apapun yang diberikan.\n",
            "   (Yusuf Fakhri Aldrian)\n"
          ]
        }
      ]
    },
    {
      "cell_type": "markdown",
      "metadata": {
        "id": "b-rPY0F5Vevh"
      },
      "source": [
        "## **Preprocessing pada Titanic Dataset**\n",
        "\n",
        "Sumber: ToT Microcredential AI-Data Science Dirjen Dikti, dengan beberapa perubahan\n"
      ]
    },
    {
      "cell_type": "markdown",
      "metadata": {
        "id": "ThEcWldxOVFe"
      },
      "source": [
        "### Import Library dan Data"
      ]
    },
    {
      "cell_type": "code",
      "metadata": {
        "id": "o0LtLOPfOVFl"
      },
      "source": [
        "import pandas as pd\n",
        "import numpy as np\n",
        "\n",
        "import matplotlib.pyplot as plt\n",
        "import seaborn as sns\n",
        "import scipy.stats as scp\n",
        "\n",
        "from sklearn.preprocessing import LabelEncoder, Normalizer, StandardScaler"
      ],
      "execution_count": 21,
      "outputs": []
    },
    {
      "cell_type": "code",
      "metadata": {
        "id": "jJsIcJGWOVFo"
      },
      "source": [
        "titanic1 = pd.read_csv('data_titanic1.csv')"
      ],
      "execution_count": 3,
      "outputs": []
    },
    {
      "cell_type": "code",
      "metadata": {
        "id": "fHeTQl_1OVFp",
        "colab": {
          "base_uri": "https://localhost:8080/"
        },
        "outputId": "7ec698ec-6150-4973-ef39-4d8ce71d349e"
      },
      "source": [
        "# Mencetak dimensi data\n",
        "print(\"data: \", titanic1.shape)"
      ],
      "execution_count": null,
      "outputs": [
        {
          "output_type": "stream",
          "name": "stdout",
          "text": [
            "data:  (900, 14)\n"
          ]
        }
      ]
    },
    {
      "cell_type": "code",
      "metadata": {
        "id": "TLc6noNLOVFr",
        "colab": {
          "base_uri": "https://localhost:8080/"
        },
        "outputId": "db3d35ae-c4ca-4ed4-b940-ee80adccbe9c"
      },
      "source": [
        "# Membaca kolom-kolom pada DataFrame\n",
        "titanic1.info()"
      ],
      "execution_count": null,
      "outputs": [
        {
          "output_type": "stream",
          "name": "stdout",
          "text": [
            "<class 'pandas.core.frame.DataFrame'>\n",
            "RangeIndex: 900 entries, 0 to 899\n",
            "Data columns (total 14 columns):\n",
            " #   Column     Non-Null Count  Dtype  \n",
            "---  ------     --------------  -----  \n",
            " 0   pclass     900 non-null    int64  \n",
            " 1   survived   900 non-null    int64  \n",
            " 2   name       900 non-null    object \n",
            " 3   sex        900 non-null    object \n",
            " 4   age        804 non-null    float64\n",
            " 5   sibsp      900 non-null    int64  \n",
            " 6   parch      900 non-null    int64  \n",
            " 7   ticket     900 non-null    object \n",
            " 8   fare       900 non-null    float64\n",
            " 9   cabin      281 non-null    object \n",
            " 10  embarked   898 non-null    object \n",
            " 11  boat       389 non-null    object \n",
            " 12  body       90 non-null     float64\n",
            " 13  home.dest  742 non-null    object \n",
            "dtypes: float64(3), int64(4), object(7)\n",
            "memory usage: 98.6+ KB\n"
          ]
        }
      ]
    },
    {
      "cell_type": "markdown",
      "metadata": {
        "id": "j9pb-VsmOVFs"
      },
      "source": [
        "### **Variable Descriptions:**\n",
        "\n",
        "`pclass`:          Passenger Class\n",
        "                (1 = 1st; 2 = 2nd; 3 = 3rd)\n",
        "\n",
        "`survival`:        Survival\n",
        "                (0 = No; 1 = Yes)\n",
        "\n",
        "`name`:           Name\n",
        "\n",
        "`sex`:             Sex\n",
        "\n",
        "`age`:             Age\n",
        "\n",
        "`sibsp`:           Number of Siblings/Spouses Aboard\n",
        "\n",
        "`parch`:           Number of Parents/Children Aboard\n",
        "\n",
        "`ticket`:          Ticket Number\n",
        "\n",
        "`fare`:            Passenger Fare\n",
        "\n",
        "`cabin`:           Cabin\n",
        "\n",
        "`embarked`:        Port of Embarkation\n",
        "                (C = Cherbourg; Q = Queenstown; S = Southampton)\n",
        "\n",
        "`boat`:            Lifeboat\n",
        "\n",
        "`body`:            Body Identification Number\n",
        "\n",
        "`home.dest`:       Home/Destination\n",
        "\n",
        "**SPECIAL NOTES:**\n",
        "\n",
        "`pclass` is a proxy for socio-economic status (SES)\n",
        " \n",
        " 1st ~ Upper; 2nd ~ Middle; 3rd ~ Lower\n",
        "\n",
        "`pclass` mengacu pada kelas penumpang (1, 2, 3) yang merepresentasikan kelas sosial ekonomi. "
      ]
    },
    {
      "cell_type": "code",
      "metadata": {
        "id": "nJaxL3fNOVFu",
        "colab": {
          "base_uri": "https://localhost:8080/",
          "height": 275
        },
        "outputId": "20850ea5-8d83-4311-f45b-b4a9b177de0b"
      },
      "source": [
        "titanic1.head()"
      ],
      "execution_count": null,
      "outputs": [
        {
          "output_type": "execute_result",
          "data": {
            "text/html": [
              "<div>\n",
              "<style scoped>\n",
              "    .dataframe tbody tr th:only-of-type {\n",
              "        vertical-align: middle;\n",
              "    }\n",
              "\n",
              "    .dataframe tbody tr th {\n",
              "        vertical-align: top;\n",
              "    }\n",
              "\n",
              "    .dataframe thead th {\n",
              "        text-align: right;\n",
              "    }\n",
              "</style>\n",
              "<table border=\"1\" class=\"dataframe\">\n",
              "  <thead>\n",
              "    <tr style=\"text-align: right;\">\n",
              "      <th></th>\n",
              "      <th>pclass</th>\n",
              "      <th>survived</th>\n",
              "      <th>name</th>\n",
              "      <th>sex</th>\n",
              "      <th>age</th>\n",
              "      <th>sibsp</th>\n",
              "      <th>parch</th>\n",
              "      <th>ticket</th>\n",
              "      <th>fare</th>\n",
              "      <th>cabin</th>\n",
              "      <th>embarked</th>\n",
              "      <th>boat</th>\n",
              "      <th>body</th>\n",
              "      <th>home.dest</th>\n",
              "    </tr>\n",
              "  </thead>\n",
              "  <tbody>\n",
              "    <tr>\n",
              "      <th>0</th>\n",
              "      <td>1</td>\n",
              "      <td>1</td>\n",
              "      <td>Allen, Miss. Elisabeth Walton</td>\n",
              "      <td>female</td>\n",
              "      <td>29.00</td>\n",
              "      <td>0</td>\n",
              "      <td>0</td>\n",
              "      <td>24160</td>\n",
              "      <td>211.3375</td>\n",
              "      <td>B5</td>\n",
              "      <td>S</td>\n",
              "      <td>2</td>\n",
              "      <td>NaN</td>\n",
              "      <td>St Louis, MO</td>\n",
              "    </tr>\n",
              "    <tr>\n",
              "      <th>1</th>\n",
              "      <td>1</td>\n",
              "      <td>1</td>\n",
              "      <td>Allison, Master. Hudson Trevor</td>\n",
              "      <td>male</td>\n",
              "      <td>0.92</td>\n",
              "      <td>1</td>\n",
              "      <td>2</td>\n",
              "      <td>113781</td>\n",
              "      <td>151.5500</td>\n",
              "      <td>C22 C26</td>\n",
              "      <td>S</td>\n",
              "      <td>11</td>\n",
              "      <td>NaN</td>\n",
              "      <td>Montreal, PQ / Chesterville, ON</td>\n",
              "    </tr>\n",
              "    <tr>\n",
              "      <th>2</th>\n",
              "      <td>1</td>\n",
              "      <td>0</td>\n",
              "      <td>Allison, Miss. Helen Loraine</td>\n",
              "      <td>female</td>\n",
              "      <td>2.00</td>\n",
              "      <td>1</td>\n",
              "      <td>2</td>\n",
              "      <td>113781</td>\n",
              "      <td>151.5500</td>\n",
              "      <td>C22 C26</td>\n",
              "      <td>S</td>\n",
              "      <td>NaN</td>\n",
              "      <td>NaN</td>\n",
              "      <td>Montreal, PQ / Chesterville, ON</td>\n",
              "    </tr>\n",
              "    <tr>\n",
              "      <th>3</th>\n",
              "      <td>1</td>\n",
              "      <td>0</td>\n",
              "      <td>Allison, Mr. Hudson Joshua Creighton</td>\n",
              "      <td>male</td>\n",
              "      <td>30.00</td>\n",
              "      <td>1</td>\n",
              "      <td>2</td>\n",
              "      <td>113781</td>\n",
              "      <td>151.5500</td>\n",
              "      <td>C22 C26</td>\n",
              "      <td>S</td>\n",
              "      <td>NaN</td>\n",
              "      <td>135.0</td>\n",
              "      <td>Montreal, PQ / Chesterville, ON</td>\n",
              "    </tr>\n",
              "    <tr>\n",
              "      <th>4</th>\n",
              "      <td>1</td>\n",
              "      <td>0</td>\n",
              "      <td>Allison, Mrs. Hudson J C (Bessie Waldo Daniels)</td>\n",
              "      <td>female</td>\n",
              "      <td>25.00</td>\n",
              "      <td>1</td>\n",
              "      <td>2</td>\n",
              "      <td>113781</td>\n",
              "      <td>151.5500</td>\n",
              "      <td>C22 C26</td>\n",
              "      <td>S</td>\n",
              "      <td>NaN</td>\n",
              "      <td>NaN</td>\n",
              "      <td>Montreal, PQ / Chesterville, ON</td>\n",
              "    </tr>\n",
              "  </tbody>\n",
              "</table>\n",
              "</div>"
            ],
            "text/plain": [
              "   pclass  survived  ...   body                        home.dest\n",
              "0       1         1  ...    NaN                     St Louis, MO\n",
              "1       1         1  ...    NaN  Montreal, PQ / Chesterville, ON\n",
              "2       1         0  ...    NaN  Montreal, PQ / Chesterville, ON\n",
              "3       1         0  ...  135.0  Montreal, PQ / Chesterville, ON\n",
              "4       1         0  ...    NaN  Montreal, PQ / Chesterville, ON\n",
              "\n",
              "[5 rows x 14 columns]"
            ]
          },
          "metadata": {},
          "execution_count": 7
        }
      ]
    },
    {
      "cell_type": "markdown",
      "metadata": {
        "id": "svLumBnvOVFv"
      },
      "source": [
        "### Basic Summary Statistic"
      ]
    },
    {
      "cell_type": "code",
      "metadata": {
        "id": "RdUnkeRvOVFv",
        "colab": {
          "base_uri": "https://localhost:8080/",
          "height": 300
        },
        "outputId": "d90bb6c8-869a-430d-fa12-cbc5cd9ea43e"
      },
      "source": [
        "titanic1.describe()"
      ],
      "execution_count": null,
      "outputs": [
        {
          "output_type": "execute_result",
          "data": {
            "text/html": [
              "<div>\n",
              "<style scoped>\n",
              "    .dataframe tbody tr th:only-of-type {\n",
              "        vertical-align: middle;\n",
              "    }\n",
              "\n",
              "    .dataframe tbody tr th {\n",
              "        vertical-align: top;\n",
              "    }\n",
              "\n",
              "    .dataframe thead th {\n",
              "        text-align: right;\n",
              "    }\n",
              "</style>\n",
              "<table border=\"1\" class=\"dataframe\">\n",
              "  <thead>\n",
              "    <tr style=\"text-align: right;\">\n",
              "      <th></th>\n",
              "      <th>pclass</th>\n",
              "      <th>survived</th>\n",
              "      <th>age</th>\n",
              "      <th>sibsp</th>\n",
              "      <th>parch</th>\n",
              "      <th>fare</th>\n",
              "      <th>body</th>\n",
              "    </tr>\n",
              "  </thead>\n",
              "  <tbody>\n",
              "    <tr>\n",
              "      <th>count</th>\n",
              "      <td>900.000000</td>\n",
              "      <td>900.000000</td>\n",
              "      <td>804.000000</td>\n",
              "      <td>900.000000</td>\n",
              "      <td>900.000000</td>\n",
              "      <td>900.000000</td>\n",
              "      <td>90.000000</td>\n",
              "    </tr>\n",
              "    <tr>\n",
              "      <th>mean</th>\n",
              "      <td>1.974444</td>\n",
              "      <td>0.441111</td>\n",
              "      <td>31.365672</td>\n",
              "      <td>0.455556</td>\n",
              "      <td>0.393333</td>\n",
              "      <td>42.238407</td>\n",
              "      <td>160.266667</td>\n",
              "    </tr>\n",
              "    <tr>\n",
              "      <th>std</th>\n",
              "      <td>0.832069</td>\n",
              "      <td>0.496796</td>\n",
              "      <td>14.663238</td>\n",
              "      <td>0.808205</td>\n",
              "      <td>0.814742</td>\n",
              "      <td>59.740782</td>\n",
              "      <td>92.476514</td>\n",
              "    </tr>\n",
              "    <tr>\n",
              "      <th>min</th>\n",
              "      <td>1.000000</td>\n",
              "      <td>0.000000</td>\n",
              "      <td>0.170000</td>\n",
              "      <td>0.000000</td>\n",
              "      <td>0.000000</td>\n",
              "      <td>0.000000</td>\n",
              "      <td>9.000000</td>\n",
              "    </tr>\n",
              "    <tr>\n",
              "      <th>25%</th>\n",
              "      <td>1.000000</td>\n",
              "      <td>0.000000</td>\n",
              "      <td>22.000000</td>\n",
              "      <td>0.000000</td>\n",
              "      <td>0.000000</td>\n",
              "      <td>10.500000</td>\n",
              "      <td>80.250000</td>\n",
              "    </tr>\n",
              "    <tr>\n",
              "      <th>50%</th>\n",
              "      <td>2.000000</td>\n",
              "      <td>0.000000</td>\n",
              "      <td>30.000000</td>\n",
              "      <td>0.000000</td>\n",
              "      <td>0.000000</td>\n",
              "      <td>24.075000</td>\n",
              "      <td>152.000000</td>\n",
              "    </tr>\n",
              "    <tr>\n",
              "      <th>75%</th>\n",
              "      <td>3.000000</td>\n",
              "      <td>1.000000</td>\n",
              "      <td>41.000000</td>\n",
              "      <td>1.000000</td>\n",
              "      <td>0.000000</td>\n",
              "      <td>50.123950</td>\n",
              "      <td>248.000000</td>\n",
              "    </tr>\n",
              "    <tr>\n",
              "      <th>max</th>\n",
              "      <td>3.000000</td>\n",
              "      <td>1.000000</td>\n",
              "      <td>80.000000</td>\n",
              "      <td>5.000000</td>\n",
              "      <td>6.000000</td>\n",
              "      <td>512.329200</td>\n",
              "      <td>322.000000</td>\n",
              "    </tr>\n",
              "  </tbody>\n",
              "</table>\n",
              "</div>"
            ],
            "text/plain": [
              "           pclass    survived         age  ...       parch        fare        body\n",
              "count  900.000000  900.000000  804.000000  ...  900.000000  900.000000   90.000000\n",
              "mean     1.974444    0.441111   31.365672  ...    0.393333   42.238407  160.266667\n",
              "std      0.832069    0.496796   14.663238  ...    0.814742   59.740782   92.476514\n",
              "min      1.000000    0.000000    0.170000  ...    0.000000    0.000000    9.000000\n",
              "25%      1.000000    0.000000   22.000000  ...    0.000000   10.500000   80.250000\n",
              "50%      2.000000    0.000000   30.000000  ...    0.000000   24.075000  152.000000\n",
              "75%      3.000000    1.000000   41.000000  ...    0.000000   50.123950  248.000000\n",
              "max      3.000000    1.000000   80.000000  ...    6.000000  512.329200  322.000000\n",
              "\n",
              "[8 rows x 7 columns]"
            ]
          },
          "metadata": {},
          "execution_count": 8
        }
      ]
    },
    {
      "cell_type": "markdown",
      "metadata": {
        "id": "zOVsKq4-XXR2"
      },
      "source": [
        "Dengan method \"describe\" kita mendapatkan basic statistics untuk atribut numerik. \n",
        "\n",
        "Apa yang bisa diamati?\n",
        "Pada atribut \"fare\", standard deviasi tampak tinggi, jauh di atas mean, perlu dilihat lebih jauh distribusi datanya."
      ]
    },
    {
      "cell_type": "code",
      "metadata": {
        "id": "Yk9AtLCP8kaX"
      },
      "source": [
        ""
      ],
      "execution_count": null,
      "outputs": []
    },
    {
      "cell_type": "code",
      "metadata": {
        "id": "rn2CQNiqgK4A",
        "colab": {
          "base_uri": "https://localhost:8080/",
          "height": 174
        },
        "outputId": "2e0abd84-1b91-4375-b236-f2040963f515"
      },
      "source": [
        "# Menampilkan summary dari nonnumeric atribute\n",
        "display(titanic1.describe(include=np.object))"
      ],
      "execution_count": null,
      "outputs": [
        {
          "output_type": "display_data",
          "data": {
            "text/html": [
              "<div>\n",
              "<style scoped>\n",
              "    .dataframe tbody tr th:only-of-type {\n",
              "        vertical-align: middle;\n",
              "    }\n",
              "\n",
              "    .dataframe tbody tr th {\n",
              "        vertical-align: top;\n",
              "    }\n",
              "\n",
              "    .dataframe thead th {\n",
              "        text-align: right;\n",
              "    }\n",
              "</style>\n",
              "<table border=\"1\" class=\"dataframe\">\n",
              "  <thead>\n",
              "    <tr style=\"text-align: right;\">\n",
              "      <th></th>\n",
              "      <th>name</th>\n",
              "      <th>sex</th>\n",
              "      <th>ticket</th>\n",
              "      <th>cabin</th>\n",
              "      <th>embarked</th>\n",
              "      <th>boat</th>\n",
              "      <th>home.dest</th>\n",
              "    </tr>\n",
              "  </thead>\n",
              "  <tbody>\n",
              "    <tr>\n",
              "      <th>count</th>\n",
              "      <td>900</td>\n",
              "      <td>900</td>\n",
              "      <td>900</td>\n",
              "      <td>281</td>\n",
              "      <td>898</td>\n",
              "      <td>389</td>\n",
              "      <td>742</td>\n",
              "    </tr>\n",
              "    <tr>\n",
              "      <th>unique</th>\n",
              "      <td>899</td>\n",
              "      <td>2</td>\n",
              "      <td>617</td>\n",
              "      <td>178</td>\n",
              "      <td>3</td>\n",
              "      <td>25</td>\n",
              "      <td>366</td>\n",
              "    </tr>\n",
              "    <tr>\n",
              "      <th>top</th>\n",
              "      <td>Connolly, Miss. Kate</td>\n",
              "      <td>male</td>\n",
              "      <td>CA 2144</td>\n",
              "      <td>C23 C25 C27</td>\n",
              "      <td>S</td>\n",
              "      <td>4</td>\n",
              "      <td>New York, NY</td>\n",
              "    </tr>\n",
              "    <tr>\n",
              "      <th>freq</th>\n",
              "      <td>2</td>\n",
              "      <td>560</td>\n",
              "      <td>8</td>\n",
              "      <td>6</td>\n",
              "      <td>637</td>\n",
              "      <td>31</td>\n",
              "      <td>64</td>\n",
              "    </tr>\n",
              "  </tbody>\n",
              "</table>\n",
              "</div>"
            ],
            "text/plain": [
              "                        name   sex   ticket  ... embarked boat     home.dest\n",
              "count                    900   900      900  ...      898  389           742\n",
              "unique                   899     2      617  ...        3   25           366\n",
              "top     Connolly, Miss. Kate  male  CA 2144  ...        S    4  New York, NY\n",
              "freq                       2   560        8  ...      637   31            64\n",
              "\n",
              "[4 rows x 7 columns]"
            ]
          },
          "metadata": {}
        }
      ]
    },
    {
      "cell_type": "markdown",
      "metadata": {
        "id": "M0qUBTe_z-Rd"
      },
      "source": [
        "Pada tabel di atas, \"unique\" menunjukkan ada berapa variasi nilai dalam suatu atribut. \n",
        "Jika \"unique\" bernilai 1, atribut tersebut dapat dihapus, karena nilainya sama untuk semua baris."
      ]
    },
    {
      "cell_type": "code",
      "metadata": {
        "id": "kKVHi9L-OVFw"
      },
      "source": [
        "# Plot beberapa kolom untuk melihat distribusi frekuensinya\n",
        "def countplot(column):\n",
        "    return sns.countplot(x= column, data= titanic1)"
      ],
      "execution_count": null,
      "outputs": []
    },
    {
      "cell_type": "code",
      "metadata": {
        "id": "FgsVsOaOOVFx",
        "colab": {
          "base_uri": "https://localhost:8080/",
          "height": 296
        },
        "outputId": "d06c46aa-0385-4501-f316-1c25957c1a52"
      },
      "source": [
        "countplot('pclass')"
      ],
      "execution_count": null,
      "outputs": [
        {
          "output_type": "execute_result",
          "data": {
            "text/plain": [
              "<matplotlib.axes._subplots.AxesSubplot at 0x7f8a51b8cd90>"
            ]
          },
          "metadata": {},
          "execution_count": 11
        },
        {
          "output_type": "display_data",
          "data": {
            "image/png": "[encoded data removed]",
            "text/plain": [
              "<Figure size 432x288 with 1 Axes>"
            ]
          },
          "metadata": {
            "needs_background": "light"
          }
        }
      ]
    },
    {
      "cell_type": "markdown",
      "metadata": {
        "id": "MkhbKU6-z-Re"
      },
      "source": [
        "Berdasarkan plot di atas, terlihat bahwa yang tinggi frekuensinya adalah kelas 1 (upper social economic status)."
      ]
    },
    {
      "cell_type": "code",
      "metadata": {
        "id": "eSx2cSccOVFy",
        "colab": {
          "base_uri": "https://localhost:8080/",
          "height": 296
        },
        "outputId": "ee681c16-b87b-409f-af22-db3b0af42ee1"
      },
      "source": [
        "countplot('survived')"
      ],
      "execution_count": null,
      "outputs": [
        {
          "output_type": "execute_result",
          "data": {
            "text/plain": [
              "<matplotlib.axes._subplots.AxesSubplot at 0x7f8a51ac14d0>"
            ]
          },
          "metadata": {},
          "execution_count": 12
        },
        {
          "output_type": "display_data",
          "data": {
            "image/png": "[encoded data removed]",
            "text/plain": [
              "<Figure size 432x288 with 1 Axes>"
            ]
          },
          "metadata": {
            "needs_background": "light"
          }
        }
      ]
    },
    {
      "cell_type": "markdown",
      "metadata": {
        "id": "D7nOH3_2NsJA"
      },
      "source": [
        ""
      ]
    },
    {
      "cell_type": "markdown",
      "metadata": {
        "id": "J2oE58L9z-Rf"
      },
      "source": [
        "Berdasarkan plot di atas, terlihat bahwa penumpang yang survived lebih sedikit."
      ]
    },
    {
      "cell_type": "code",
      "metadata": {
        "id": "W4f-aGxWOVFy",
        "colab": {
          "base_uri": "https://localhost:8080/",
          "height": 296
        },
        "outputId": "148e688b-745c-41f7-aa22-5a980c2352e3"
      },
      "source": [
        "countplot('embarked')"
      ],
      "execution_count": null,
      "outputs": [
        {
          "output_type": "execute_result",
          "data": {
            "text/plain": [
              "<matplotlib.axes._subplots.AxesSubplot at 0x7f8a5164d890>"
            ]
          },
          "metadata": {},
          "execution_count": 13
        },
        {
          "output_type": "display_data",
          "data": {
            "image/png": "[encoded data removed]",
            "text/plain": [
              "<Figure size 432x288 with 1 Axes>"
            ]
          },
          "metadata": {
            "needs_background": "light"
          }
        }
      ]
    },
    {
      "cell_type": "markdown",
      "metadata": {
        "id": "NxdAv3jHz-Rg"
      },
      "source": [
        "Berdasarkan plot di atas, terlihat bahwa Southampton merupakan embarkasi terbanyak."
      ]
    },
    {
      "cell_type": "code",
      "metadata": {
        "id": "55Gf3Nl7OVFz",
        "colab": {
          "base_uri": "https://localhost:8080/",
          "height": 296
        },
        "outputId": "10fbf6c9-6762-4bdb-bf42-0452b823528f"
      },
      "source": [
        "countplot('sex')"
      ],
      "execution_count": null,
      "outputs": [
        {
          "output_type": "execute_result",
          "data": {
            "text/plain": [
              "<matplotlib.axes._subplots.AxesSubplot at 0x7f8a515b9910>"
            ]
          },
          "metadata": {},
          "execution_count": 14
        },
        {
          "output_type": "display_data",
          "data": {
            "image/png": "[encoded data removed]",
            "text/plain": [
              "<Figure size 432x288 with 1 Axes>"
            ]
          },
          "metadata": {
            "needs_background": "light"
          }
        }
      ]
    },
    {
      "cell_type": "markdown",
      "metadata": {
        "id": "8HkabFIhz-Rg"
      },
      "source": [
        "Berdasarkan plot di atas, terlihat bahwa penumpang perempuan lebih sedikit dibanding laki-laki."
      ]
    },
    {
      "cell_type": "code",
      "metadata": {
        "id": "3I1MSu5hX8W-",
        "colab": {
          "base_uri": "https://localhost:8080/",
          "height": 269
        },
        "outputId": "db1b7fcf-2d01-40ad-a054-c23d323dad31"
      },
      "source": [
        "# Mendapatkan nilai korelasi (koefisien Person) atribut numerik, dengan method \"corr\"\n",
        "titanic1.corr(method='pearson')"
      ],
      "execution_count": null,
      "outputs": [
        {
          "output_type": "execute_result",
          "data": {
            "text/html": [
              "<div>\n",
              "<style scoped>\n",
              "    .dataframe tbody tr th:only-of-type {\n",
              "        vertical-align: middle;\n",
              "    }\n",
              "\n",
              "    .dataframe tbody tr th {\n",
              "        vertical-align: top;\n",
              "    }\n",
              "\n",
              "    .dataframe thead th {\n",
              "        text-align: right;\n",
              "    }\n",
              "</style>\n",
              "<table border=\"1\" class=\"dataframe\">\n",
              "  <thead>\n",
              "    <tr style=\"text-align: right;\">\n",
              "      <th></th>\n",
              "      <th>pclass</th>\n",
              "      <th>survived</th>\n",
              "      <th>age</th>\n",
              "      <th>sibsp</th>\n",
              "      <th>parch</th>\n",
              "      <th>fare</th>\n",
              "      <th>body</th>\n",
              "    </tr>\n",
              "  </thead>\n",
              "  <tbody>\n",
              "    <tr>\n",
              "      <th>pclass</th>\n",
              "      <td>1.000000</td>\n",
              "      <td>-0.300993</td>\n",
              "      <td>-0.407413</td>\n",
              "      <td>0.048759</td>\n",
              "      <td>0.041097</td>\n",
              "      <td>-0.523887</td>\n",
              "      <td>-0.060393</td>\n",
              "    </tr>\n",
              "    <tr>\n",
              "      <th>survived</th>\n",
              "      <td>-0.300993</td>\n",
              "      <td>1.000000</td>\n",
              "      <td>-0.080387</td>\n",
              "      <td>0.050267</td>\n",
              "      <td>0.139735</td>\n",
              "      <td>0.251140</td>\n",
              "      <td>NaN</td>\n",
              "    </tr>\n",
              "    <tr>\n",
              "      <th>age</th>\n",
              "      <td>-0.407413</td>\n",
              "      <td>-0.080387</td>\n",
              "      <td>1.000000</td>\n",
              "      <td>-0.192277</td>\n",
              "      <td>-0.157046</td>\n",
              "      <td>0.164158</td>\n",
              "      <td>0.000347</td>\n",
              "    </tr>\n",
              "    <tr>\n",
              "      <th>sibsp</th>\n",
              "      <td>0.048759</td>\n",
              "      <td>0.050267</td>\n",
              "      <td>-0.192277</td>\n",
              "      <td>1.000000</td>\n",
              "      <td>0.403285</td>\n",
              "      <td>0.155961</td>\n",
              "      <td>0.077668</td>\n",
              "    </tr>\n",
              "    <tr>\n",
              "      <th>parch</th>\n",
              "      <td>0.041097</td>\n",
              "      <td>0.139735</td>\n",
              "      <td>-0.157046</td>\n",
              "      <td>0.403285</td>\n",
              "      <td>1.000000</td>\n",
              "      <td>0.222607</td>\n",
              "      <td>-0.031701</td>\n",
              "    </tr>\n",
              "    <tr>\n",
              "      <th>fare</th>\n",
              "      <td>-0.523887</td>\n",
              "      <td>0.251140</td>\n",
              "      <td>0.164158</td>\n",
              "      <td>0.155961</td>\n",
              "      <td>0.222607</td>\n",
              "      <td>1.000000</td>\n",
              "      <td>-0.040643</td>\n",
              "    </tr>\n",
              "    <tr>\n",
              "      <th>body</th>\n",
              "      <td>-0.060393</td>\n",
              "      <td>NaN</td>\n",
              "      <td>0.000347</td>\n",
              "      <td>0.077668</td>\n",
              "      <td>-0.031701</td>\n",
              "      <td>-0.040643</td>\n",
              "      <td>1.000000</td>\n",
              "    </tr>\n",
              "  </tbody>\n",
              "</table>\n",
              "</div>"
            ],
            "text/plain": [
              "            pclass  survived       age     sibsp     parch      fare      body\n",
              "pclass    1.000000 -0.300993 -0.407413  0.048759  0.041097 -0.523887 -0.060393\n",
              "survived -0.300993  1.000000 -0.080387  0.050267  0.139735  0.251140       NaN\n",
              "age      -0.407413 -0.080387  1.000000 -0.192277 -0.157046  0.164158  0.000347\n",
              "sibsp     0.048759  0.050267 -0.192277  1.000000  0.403285  0.155961  0.077668\n",
              "parch     0.041097  0.139735 -0.157046  0.403285  1.000000  0.222607 -0.031701\n",
              "fare     -0.523887  0.251140  0.164158  0.155961  0.222607  1.000000 -0.040643\n",
              "body     -0.060393       NaN  0.000347  0.077668 -0.031701 -0.040643  1.000000"
            ]
          },
          "metadata": {},
          "execution_count": 15
        }
      ]
    },
    {
      "cell_type": "code",
      "metadata": {
        "id": "dq-Sep5uX8W-"
      },
      "source": [
        "# Mendapatkan nilai korelasi dari atribut nonnumerik, dengan method \"chi2\"\n",
        "def compute_freq_chi2(x,y):\n",
        "    freqtab = pd.crosstab(x,y)\n",
        "    print(\"Frequency table\")\n",
        "    print(\"============================\")\n",
        "    print(freqtab)\n",
        "    print(\"============================\")\n",
        "    chi2,pval,dof,expected = scp.chi2_contingency(freqtab)\n",
        "    print(\"ChiSquare test statistic: \",chi2)\n",
        "    print(\"p-value: \",pval)\n",
        "    return"
      ],
      "execution_count": 1,
      "outputs": []
    },
    {
      "cell_type": "markdown",
      "metadata": {
        "id": "IUY-hoSsX8W_"
      },
      "source": [
        "Chi-square dapat digunakan untuk melihat pengaruh atau korelasi dua buah variabel kategorikal dan mengukur\n",
        "kuatnya hubungan antara variabel yang satu dengan\n",
        "variabel kategorikal lainnya. Dalam pengertian yang lebih umum, chi-square berguna untuk melihat apakah distribusi variabel kategori berbeda satu sama lain."
      ]
    },
    {
      "cell_type": "code",
      "metadata": {
        "id": "0vbo2OJzX8W_",
        "colab": {
          "base_uri": "https://localhost:8080/"
        },
        "outputId": "f82727fe-5dcd-403e-a873-567baa3ea3d0"
      },
      "source": [
        "# Korelasi antara survived dengan pclass\n",
        "compute_freq_chi2(titanic1.survived,titanic1.pclass)"
      ],
      "execution_count": 7,
      "outputs": [
        {
          "output_type": "stream",
          "name": "stdout",
          "text": [
            "Frequency table\n",
            "============================\n",
            "pclass      1    2    3\n",
            "survived               \n",
            "0         123  158  222\n",
            "1         200  119   78\n",
            "============================\n",
            "ChiSquare test statistic:  81.61469423204498\n",
            "p-value:  1.894935039255057e-18\n"
          ]
        }
      ]
    },
    {
      "cell_type": "markdown",
      "metadata": {
        "id": "hAAJQXOhX8W_"
      },
      "source": [
        "Penumpang kelas 3 yang tidak survive mencapai 200 orang lebih."
      ]
    },
    {
      "cell_type": "code",
      "metadata": {
        "id": "X_qQpK_iX8W_",
        "colab": {
          "base_uri": "https://localhost:8080/"
        },
        "outputId": "e93bb862-f527-400a-8dd0-eacb854d1218"
      },
      "source": [
        "# Korelasi antara survived dengan embarked\n",
        "compute_freq_chi2(titanic1.survived,titanic1.embarked)"
      ],
      "execution_count": 8,
      "outputs": [
        {
          "output_type": "stream",
          "name": "stdout",
          "text": [
            "Frequency table\n",
            "============================\n",
            "embarked    C   Q    S\n",
            "survived              \n",
            "0          85  38  380\n",
            "1         123  15  257\n",
            "============================\n",
            "ChiSquare test statistic:  28.09128646800554\n",
            "p-value:  7.944281939252533e-07\n"
          ]
        }
      ]
    },
    {
      "cell_type": "markdown",
      "metadata": {
        "id": "zxVz9cqAX8W_"
      },
      "source": [
        "Embarkasi S paling banyak yang tidak survived"
      ]
    },
    {
      "cell_type": "markdown",
      "metadata": {
        "id": "KTqxFIrFX8W_"
      },
      "source": [
        "# Data Preprocessing\n",
        "\n",
        "*Data Preparation* atau *data preprocessing* adalah suatu proses pembersihan dan transformasi pada *raw data* sebelum diproses dan dianalisis. Pada beberapa algoritma prediksi, dibutuhkan *preprocessing* khusus agar algoritma dapat berjalan dengan baik.\n",
        "\n",
        "**DISCLAIMER!**  Pada contoh ini, *preprocessing* yang \n",
        "dilakukan dimaksudkan untuk algoritma yang memiliki karakteristik:\n",
        "* sensitif terhadap outlier\n",
        "* fitur-fiturnya perlu memiliki range yang setara"
      ]
    },
    {
      "cell_type": "markdown",
      "metadata": {
        "id": "2SXTNT1aX8XA"
      },
      "source": [
        "### **SOAL 1**"
      ]
    },
    {
      "cell_type": "code",
      "metadata": {
        "id": "u8oCqRzOX8XA"
      },
      "source": [
        "# Import data_titanic2\n",
        "titanic2 = pd.read_csv('data_titanic2.csv')"
      ],
      "execution_count": 4,
      "outputs": []
    },
    {
      "cell_type": "code",
      "metadata": {
        "id": "VuVSyMppX8XA"
      },
      "source": [
        "# Menggabungkan dua data frame\n",
        "frames = [titanic1, titanic2] \n",
        "merged_titanic = pd.concat(frames).reset_index(drop=True)"
      ],
      "execution_count": 5,
      "outputs": []
    },
    {
      "cell_type": "code",
      "metadata": {
        "id": "GKjsU5_VX8XA",
        "colab": {
          "base_uri": "https://localhost:8080/"
        },
        "outputId": "0d745872-b102-4530-b184-6840191ff052"
      },
      "source": [
        "merged_titanic.shape"
      ],
      "execution_count": 11,
      "outputs": [
        {
          "output_type": "execute_result",
          "data": {
            "text/plain": [
              "(1359, 14)"
            ]
          },
          "metadata": {},
          "execution_count": 11
        }
      ]
    },
    {
      "cell_type": "markdown",
      "metadata": {
        "id": "IYSkaOtpX8XA"
      },
      "source": [
        "(a) Dari data merged_titanic di atas, apakah terdapat redudansi data? Implementasikan dengan code!"
      ]
    },
    {
      "cell_type": "code",
      "metadata": {
        "id": "t1rYJG0bX8XA",
        "colab": {
          "base_uri": "https://localhost:8080/"
        },
        "outputId": "6956907f-7041-4924-c31c-6cbf7a428481"
      },
      "source": [
        "# 1(a) Implementasi code di sini.\n",
        "\n",
        "print(\"Redudansi data ada sebanyak \") \n",
        "print(merged_titanic.duplicated().value_counts()[1])\n",
        "\n",
        "#print(merged_titanic.describe(include=np.object).name[0] #count sum\n",
        "#- merged_titanic.describe(include=np.object).name[1]) #unique"
      ],
      "execution_count": 6,
      "outputs": [
        {
          "output_type": "stream",
          "name": "stdout",
          "text": [
            "Redudansi data ada sebanyak \n",
            "50\n"
          ]
        }
      ]
    },
    {
      "cell_type": "markdown",
      "metadata": {
        "id": "vkNX_N4NX8XB"
      },
      "source": [
        "(b) Apa yang dapat Anda lakukan untuk menangani redudansi data tersebut? Implementasikan dengan code! Hint: [Dokumentasi Drop Duplicate](https://pandas.pydata.org/pandas-docs/version/1.3/reference/api/pandas.DataFrame.drop_duplicates.html)"
      ]
    },
    {
      "cell_type": "code",
      "metadata": {
        "id": "FeInjJa0X8XB",
        "colab": {
          "base_uri": "https://localhost:8080/"
        },
        "outputId": "9b6410c5-b4e8-47bc-bcfa-f8f1868dd8a6"
      },
      "source": [
        "# 1(b) Implementasi code di sini.\n",
        "\n",
        "merged_titanic = merged_titanic.drop_duplicates()\n",
        "print(\"data: \", merged_titanic.shape)"
      ],
      "execution_count": 7,
      "outputs": [
        {
          "output_type": "stream",
          "name": "stdout",
          "text": [
            "data:  (1309, 14)\n"
          ]
        }
      ]
    },
    {
      "cell_type": "markdown",
      "metadata": {
        "id": "eXgJR7fEX8XB"
      },
      "source": [
        "(c) Berikan alasan mengapa redudansi data perlu ditangani?\n",
        "> Bisa menyebabkan data tidak konsisten karena saat kita Insert/Delete/Update, itu harus dilakukan di lebih dari satu data. Selain itu, ukuran database juga lebih besar.\n"
      ]
    },
    {
      "cell_type": "markdown",
      "metadata": {
        "id": "18v2FKJzjcPQ"
      },
      "source": [
        "## Outlier"
      ]
    },
    {
      "cell_type": "markdown",
      "metadata": {
        "id": "GN-hQ0_1vUel"
      },
      "source": [
        "Outlier merupakan observasi yang tidak biasa yang muncul pada salah satu titik ekstrim dari sebagian besar data. Titik ekstrim di sini adalah nilai yang terlalu kecil atau nilai yang terlalu besar jika dibandingkan dengan sebagian besar nilai lain dalam kelompoknya."
      ]
    },
    {
      "cell_type": "markdown",
      "metadata": {
        "id": "eKcNhMswxqnd"
      },
      "source": [
        "Outlier dapat ditangani dengan melakukan hal-hal berikut ini:\n",
        "\n",
        "*   Jika persentase outliers tidak signifikan, opsi yang mungkin dilakukan adalah drop column/row.\n",
        "*   Jika datanya relatif sedikit, opsi yang mungkin dilakukan adalah mengisi dengan nilai statistik tertentu Pengisian data dapat dilakukan dengan:\n",
        "  * Nilai rata-rata \n",
        "  * Nilai median\n",
        "  * Nilai modus\n",
        "*   Jika terdapat human error, maka opsi yang mungkin adalah memperbaiki dengan manual.\n",
        "*   Jika asumsi data normal, maka outlier dapat dibiarkan saja.\n",
        "\n"
      ]
    },
    {
      "cell_type": "code",
      "metadata": {
        "id": "q2E1LoKwOVF0",
        "scrolled": true,
        "colab": {
          "base_uri": "https://localhost:8080/",
          "height": 296
        },
        "outputId": "cf2778ea-7966-44ec-c5dc-f6dc5a2d0b1d"
      },
      "source": [
        "merged_titanic.plot.scatter(x=\"fare\", y='survived', figsize=(6,4))"
      ],
      "execution_count": 8,
      "outputs": [
        {
          "output_type": "execute_result",
          "data": {
            "text/plain": [
              "<matplotlib.axes._subplots.AxesSubplot at 0x7fadfb0dfc10>"
            ]
          },
          "metadata": {},
          "execution_count": 8
        },
        {
          "output_type": "display_data",
          "data": {
            "image/png": "[encoded data removed]",
            "text/plain": [
              "<Figure size 432x288 with 1 Axes>"
            ]
          },
          "metadata": {
            "needs_background": "light"
          }
        }
      ]
    },
    {
      "cell_type": "markdown",
      "metadata": {
        "id": "af03UEXVz-Rh"
      },
      "source": [
        "Dari scatter plot di atas terlihat bahwa ada nilai fare yang sangat besar (outlier) pada penumpang yang survived."
      ]
    },
    {
      "cell_type": "code",
      "metadata": {
        "id": "02ShW0HTOVF7",
        "colab": {
          "base_uri": "https://localhost:8080/",
          "height": 194
        },
        "outputId": "8c806481-fe99-411f-fb4b-e13c5dbdd9fc"
      },
      "source": [
        "data = merged_titanic.drop(['survived'],axis=1)\n",
        "data.boxplot(figsize=(20,3))"
      ],
      "execution_count": 9,
      "outputs": [
        {
          "output_type": "stream",
          "name": "stderr",
          "text": [
            "/usr/local/lib/python3.7/dist-packages/numpy/core/_asarray.py:83: VisibleDeprecationWarning: Creating an ndarray from ragged nested sequences (which is a list-or-tuple of lists-or-tuples-or ndarrays with different lengths or shapes) is deprecated. If you meant to do this, you must specify 'dtype=object' when creating the ndarray\n",
            "  return array(a, dtype, copy=False, order=order)\n"
          ]
        },
        {
          "output_type": "execute_result",
          "data": {
            "text/plain": [
              "<matplotlib.axes._subplots.AxesSubplot at 0x7fadfafcc1d0>"
            ]
          },
          "metadata": {},
          "execution_count": 9
        },
        {
          "output_type": "display_data",
          "data": {
            "image/png": "[encoded data removed]",
            "text/plain": [
              "<Figure size 1440x216 with 1 Axes>"
            ]
          },
          "metadata": {
            "needs_background": "light"
          }
        }
      ]
    },
    {
      "cell_type": "markdown",
      "metadata": {
        "id": "l2Mz6B6Ylku7"
      },
      "source": [
        "Boxplot juga dapat digunakan untuk menunjukkan adanya outlier. Bagian utama boxplot merupakan sebuah kotak Box yang menyajikan interquartile range (IQR). Garis yang merupakan perpanjangan dari box dinamakan dengan whiskers. Nilai yang berada di atas atau dibawah whisker dinamakan nilai outlier atau ekstrim."
      ]
    },
    {
      "cell_type": "markdown",
      "metadata": {
        "id": "Qs6DEaIu0_-3"
      },
      "source": [
        "### **SOAL 2**\n",
        "\n",
        "(a) Dari boxplot yang Anda lihat, atribut apa yang mengandung outlier paling banyak?\n",
        "\n",
        "> Dari boxplot, atribut yang paling banyak mempunyai outlier adalah fare."
      ]
    },
    {
      "cell_type": "markdown",
      "metadata": {
        "id": "9clvzQNg7MRx"
      },
      "source": [
        "(b) Implementasikan code untuk menampilkan banyaknya outlier pada atribut tersebut!"
      ]
    },
    {
      "cell_type": "code",
      "metadata": {
        "id": "9FNJvGOyz-Rj",
        "colab": {
          "base_uri": "https://localhost:8080/"
        },
        "outputId": "6a98d2a5-066a-4e81-db7f-b97a83e78805"
      },
      "source": [
        "# 2(b) Implementasi code di sini\n",
        "\n",
        "merged_titanic_f = merged_titanic['fare']\n",
        "sorted(merged_titanic_f)\n",
        "q1_t, q3_t = np.nanpercentile(merged_titanic_f,[25,75])\n",
        "iqr = q3_t - q1_t\n",
        "lower_bound = q1_t -(1.5 * iqr) \n",
        "upper_bound = q3_t +(1.5 * iqr) \n",
        "\n",
        "print(\"Banyak outlier pada atribut fare\")\n",
        "print(sum(merged_titanic_f < lower_bound) + sum(merged_titanic_f >  upper_bound))"
      ],
      "execution_count": 48,
      "outputs": [
        {
          "output_type": "stream",
          "name": "stdout",
          "text": [
            "Banyak outlier pada atribut fare\n",
            "171\n"
          ]
        }
      ]
    },
    {
      "cell_type": "markdown",
      "metadata": {
        "id": "X85RWnpBz-Rj"
      },
      "source": [
        "(c) Apa yang dapat Anda lakukan untuk menangani outlier tersebut? Implementasikan dengan code!"
      ]
    },
    {
      "cell_type": "code",
      "metadata": {
        "id": "vMBAr9Rb7cFd",
        "colab": {
          "base_uri": "https://localhost:8080/"
        },
        "outputId": "3c73dcf0-6266-4c6b-fc8b-334d053ec8a1"
      },
      "source": [
        "# 2(c) Implementasi code di sini\n",
        "\n",
        "cleaned_fare = merged_titanic[merged_titanic['fare'].between(lower_bound, upper_bound)]\n",
        "print(\"Sebelum outlier dihapus\")\n",
        "print(merged_titanic.shape)\n",
        "print(\"Setelah outlier dihapus\")\n",
        "print(cleaned_fare.shape)"
      ],
      "execution_count": 62,
      "outputs": [
        {
          "output_type": "stream",
          "name": "stdout",
          "text": [
            "Sebelum outlier dihapus\n",
            "(1309, 14)\n",
            "Setelah outlier dihapus\n",
            "(1137, 14)\n"
          ]
        }
      ]
    },
    {
      "cell_type": "markdown",
      "metadata": {
        "id": "bd-aKJ9lwI0O"
      },
      "source": [
        "## Missing Values"
      ]
    },
    {
      "cell_type": "markdown",
      "metadata": {
        "id": "ZdkXMlUHWxzY"
      },
      "source": [
        "Terkadang data mungkin dalam format yang benar, tetapi beberapa nilainya hilang.\n",
        "\n",
        "*   Nilai yang hilang terjadi ketika tidak ada nilai data yang disimpan untuk suatu variabel (fitur) dalam suatu observasi.\n",
        "*   Biasanya missing value di datase muncul sebagai “?”, “T/A”, 0 atau hanya sel kosong."
      ]
    },
    {
      "cell_type": "markdown",
      "metadata": {
        "id": "tw3zM_5DY3C6"
      },
      "source": [
        "Untuk menangani missing values, tidak terdapat jawaban tunggal yang selalu bekerja untuk semua skenario, karena  tentunya penanganan missing values harus disesuaikan dengan kondisi data atau fitur yang memiliki missing values. Namun, terdapat beberapa opsi umum yang dapat dipertimbangkan, yaitu: \n",
        "\n",
        "*   Periksa lagi dengan orang/kelompok yang mengumpulkan data.\n",
        "*   Jika kita tidak mengetahui nilai yang hilang, opsi yang mungkin adalah menghapus/drop missing values.\n",
        "    * Menghapus kolom yang mengandung missing values, atau \n",
        "    * Menghapus beberapa baris data yang mengandung missing values.\n",
        "*  Jika data relatif sedikit, opsi yang mungkin adalah mengganti/replace nilai missing values. \n",
        "    * Mengganti nilai missing value dengan nilai mean keseluruhan variabel.\n",
        "    * Jika variabelnya non-numerik, ganti nilai missing value dengan frekuensi/modus. \n",
        "*   Jika kita berasumsi data tersebut tetap akan berguna meskipun ada fitur yang hilang, maka kita dapat membiarkan missing values. \n",
        "\n",
        "\n",
        "\n",
        "\n"
      ]
    },
    {
      "cell_type": "code",
      "metadata": {
        "id": "jxmLWlatOVF8"
      },
      "source": [
        "# Cek missing value\n",
        "def cek_null(df):\n",
        "    col_na = df.isnull().sum().sort_values(ascending=False)\n",
        "    percent = col_na / len(df)\n",
        "    \n",
        "    missing_data = pd.concat([col_na, percent], axis=1, keys=['Total', 'Percent'])\n",
        "    print(missing_data[missing_data['Total'] > 0])"
      ],
      "execution_count": 63,
      "outputs": []
    },
    {
      "cell_type": "code",
      "metadata": {
        "id": "G_vYn8ZxOVF9",
        "colab": {
          "base_uri": "https://localhost:8080/"
        },
        "outputId": "dab56566-4dc7-4373-8b52-265a1332aa05"
      },
      "source": [
        "cek_null(merged_titanic)"
      ],
      "execution_count": 64,
      "outputs": [
        {
          "output_type": "stream",
          "name": "stdout",
          "text": [
            "           Total   Percent\n",
            "body        1188  0.907563\n",
            "cabin       1014  0.774637\n",
            "boat         823  0.628724\n",
            "home.dest    564  0.430863\n",
            "age          263  0.200917\n",
            "embarked       2  0.001528\n",
            "fare           1  0.000764\n"
          ]
        }
      ]
    },
    {
      "cell_type": "markdown",
      "metadata": {
        "id": "E6VwvbP5z-Rk"
      },
      "source": [
        "Terdapat beberapa atribut memiliki null value yang sangat banyak, atribut body memiliki null value yang paling banyak hingga 90%, \"cabin\" hingga 77%"
      ]
    },
    {
      "cell_type": "code",
      "metadata": {
        "id": "1Lf9rpqPpQUe",
        "colab": {
          "base_uri": "https://localhost:8080/"
        },
        "outputId": "c94902a6-06f6-46e0-f06e-bca675018d2a"
      },
      "source": [
        "# Melihat isi cabin (20 baris pertama)\n",
        "merged_titanic['cabin'].head(20)"
      ],
      "execution_count": 65,
      "outputs": [
        {
          "output_type": "execute_result",
          "data": {
            "text/plain": [
              "0          B5\n",
              "1     C22 C26\n",
              "2     C22 C26\n",
              "3     C22 C26\n",
              "4     C22 C26\n",
              "5         E12\n",
              "6          D7\n",
              "7         A36\n",
              "8        C101\n",
              "9         NaN\n",
              "10    C62 C64\n",
              "11    C62 C64\n",
              "12        B35\n",
              "13        NaN\n",
              "14        A23\n",
              "15        NaN\n",
              "16    B58 B60\n",
              "17    B58 B60\n",
              "18        D15\n",
              "19         C6\n",
              "Name: cabin, dtype: object"
            ]
          },
          "metadata": {},
          "execution_count": 65
        }
      ]
    },
    {
      "cell_type": "code",
      "metadata": {
        "id": "wDg6qTcuOVF-",
        "colab": {
          "base_uri": "https://localhost:8080/",
          "height": 331
        },
        "outputId": "df4d1b0c-5556-4c51-da7f-ed4ac84e3f82"
      },
      "source": [
        "# Melihat berapa penumpang yang survive di tiap cabin\n",
        "(merged_titanic\n",
        " .groupby([merged_titanic.cabin.str[:1],'survived'])\n",
        " .survived\n",
        " .count()\n",
        " .unstack())"
      ],
      "execution_count": 66,
      "outputs": [
        {
          "output_type": "execute_result",
          "data": {
            "text/html": [
              "<div>\n",
              "<style scoped>\n",
              "    .dataframe tbody tr th:only-of-type {\n",
              "        vertical-align: middle;\n",
              "    }\n",
              "\n",
              "    .dataframe tbody tr th {\n",
              "        vertical-align: top;\n",
              "    }\n",
              "\n",
              "    .dataframe thead th {\n",
              "        text-align: right;\n",
              "    }\n",
              "</style>\n",
              "<table border=\"1\" class=\"dataframe\">\n",
              "  <thead>\n",
              "    <tr style=\"text-align: right;\">\n",
              "      <th>survived</th>\n",
              "      <th>0</th>\n",
              "      <th>1</th>\n",
              "    </tr>\n",
              "    <tr>\n",
              "      <th>cabin</th>\n",
              "      <th></th>\n",
              "      <th></th>\n",
              "    </tr>\n",
              "  </thead>\n",
              "  <tbody>\n",
              "    <tr>\n",
              "      <th>A</th>\n",
              "      <td>11.0</td>\n",
              "      <td>11.0</td>\n",
              "    </tr>\n",
              "    <tr>\n",
              "      <th>B</th>\n",
              "      <td>18.0</td>\n",
              "      <td>47.0</td>\n",
              "    </tr>\n",
              "    <tr>\n",
              "      <th>C</th>\n",
              "      <td>37.0</td>\n",
              "      <td>57.0</td>\n",
              "    </tr>\n",
              "    <tr>\n",
              "      <th>D</th>\n",
              "      <td>14.0</td>\n",
              "      <td>32.0</td>\n",
              "    </tr>\n",
              "    <tr>\n",
              "      <th>E</th>\n",
              "      <td>11.0</td>\n",
              "      <td>30.0</td>\n",
              "    </tr>\n",
              "    <tr>\n",
              "      <th>F</th>\n",
              "      <td>8.0</td>\n",
              "      <td>13.0</td>\n",
              "    </tr>\n",
              "    <tr>\n",
              "      <th>G</th>\n",
              "      <td>2.0</td>\n",
              "      <td>3.0</td>\n",
              "    </tr>\n",
              "    <tr>\n",
              "      <th>T</th>\n",
              "      <td>1.0</td>\n",
              "      <td>NaN</td>\n",
              "    </tr>\n",
              "  </tbody>\n",
              "</table>\n",
              "</div>"
            ],
            "text/plain": [
              "survived     0     1\n",
              "cabin               \n",
              "A         11.0  11.0\n",
              "B         18.0  47.0\n",
              "C         37.0  57.0\n",
              "D         14.0  32.0\n",
              "E         11.0  30.0\n",
              "F          8.0  13.0\n",
              "G          2.0   3.0\n",
              "T          1.0   NaN"
            ]
          },
          "metadata": {},
          "execution_count": 66
        }
      ]
    },
    {
      "cell_type": "code",
      "metadata": {
        "id": "F98RNY5-OVF_",
        "colab": {
          "base_uri": "https://localhost:8080/",
          "height": 331
        },
        "outputId": "c4fe74c6-63db-46dd-f231-3d77e875b739"
      },
      "source": [
        "# Melihat rerata fare di tiap cabin, untuk kelompok yang survived dan tidak survived\n",
        "(merged_titanic\n",
        " .groupby([merged_titanic.cabin.str[:1],'survived'])\n",
        " .fare\n",
        " .mean()\n",
        " .unstack())"
      ],
      "execution_count": 67,
      "outputs": [
        {
          "output_type": "execute_result",
          "data": {
            "text/html": [
              "<div>\n",
              "<style scoped>\n",
              "    .dataframe tbody tr th:only-of-type {\n",
              "        vertical-align: middle;\n",
              "    }\n",
              "\n",
              "    .dataframe tbody tr th {\n",
              "        vertical-align: top;\n",
              "    }\n",
              "\n",
              "    .dataframe thead th {\n",
              "        text-align: right;\n",
              "    }\n",
              "</style>\n",
              "<table border=\"1\" class=\"dataframe\">\n",
              "  <thead>\n",
              "    <tr style=\"text-align: right;\">\n",
              "      <th>survived</th>\n",
              "      <th>0</th>\n",
              "      <th>1</th>\n",
              "    </tr>\n",
              "    <tr>\n",
              "      <th>cabin</th>\n",
              "      <th></th>\n",
              "      <th></th>\n",
              "    </tr>\n",
              "  </thead>\n",
              "  <tbody>\n",
              "    <tr>\n",
              "      <th>A</th>\n",
              "      <td>34.168182</td>\n",
              "      <td>48.320445</td>\n",
              "    </tr>\n",
              "    <tr>\n",
              "      <th>B</th>\n",
              "      <td>76.363422</td>\n",
              "      <td>140.007628</td>\n",
              "    </tr>\n",
              "    <tr>\n",
              "      <th>C</th>\n",
              "      <td>111.878832</td>\n",
              "      <td>105.361112</td>\n",
              "    </tr>\n",
              "    <tr>\n",
              "      <th>D</th>\n",
              "      <td>46.653264</td>\n",
              "      <td>55.787247</td>\n",
              "    </tr>\n",
              "    <tr>\n",
              "      <th>E</th>\n",
              "      <td>46.431436</td>\n",
              "      <td>57.546807</td>\n",
              "    </tr>\n",
              "    <tr>\n",
              "      <th>F</th>\n",
              "      <td>11.241150</td>\n",
              "      <td>22.287500</td>\n",
              "    </tr>\n",
              "    <tr>\n",
              "      <th>G</th>\n",
              "      <td>10.462500</td>\n",
              "      <td>16.700000</td>\n",
              "    </tr>\n",
              "    <tr>\n",
              "      <th>T</th>\n",
              "      <td>35.500000</td>\n",
              "      <td>NaN</td>\n",
              "    </tr>\n",
              "  </tbody>\n",
              "</table>\n",
              "</div>"
            ],
            "text/plain": [
              "survived           0           1\n",
              "cabin                           \n",
              "A          34.168182   48.320445\n",
              "B          76.363422  140.007628\n",
              "C         111.878832  105.361112\n",
              "D          46.653264   55.787247\n",
              "E          46.431436   57.546807\n",
              "F          11.241150   22.287500\n",
              "G          10.462500   16.700000\n",
              "T          35.500000         NaN"
            ]
          },
          "metadata": {},
          "execution_count": 67
        }
      ]
    },
    {
      "cell_type": "code",
      "metadata": {
        "id": "SaljTpbZqsvH",
        "colab": {
          "base_uri": "https://localhost:8080/",
          "height": 206
        },
        "outputId": "e1bfaac2-18db-4d41-9e03-6ad8418e8a1b"
      },
      "source": [
        "# Drop atribut yang dianggap tidak penting\n",
        "titanic_cleaned = merged_titanic.drop(['name', 'ticket', 'body', 'cabin','home.dest'], axis=1)\n",
        "titanic_cleaned.head()"
      ],
      "execution_count": 72,
      "outputs": [
        {
          "output_type": "execute_result",
          "data": {
            "text/html": [
              "<div>\n",
              "<style scoped>\n",
              "    .dataframe tbody tr th:only-of-type {\n",
              "        vertical-align: middle;\n",
              "    }\n",
              "\n",
              "    .dataframe tbody tr th {\n",
              "        vertical-align: top;\n",
              "    }\n",
              "\n",
              "    .dataframe thead th {\n",
              "        text-align: right;\n",
              "    }\n",
              "</style>\n",
              "<table border=\"1\" class=\"dataframe\">\n",
              "  <thead>\n",
              "    <tr style=\"text-align: right;\">\n",
              "      <th></th>\n",
              "      <th>pclass</th>\n",
              "      <th>survived</th>\n",
              "      <th>sex</th>\n",
              "      <th>age</th>\n",
              "      <th>sibsp</th>\n",
              "      <th>parch</th>\n",
              "      <th>fare</th>\n",
              "      <th>embarked</th>\n",
              "      <th>boat</th>\n",
              "    </tr>\n",
              "  </thead>\n",
              "  <tbody>\n",
              "    <tr>\n",
              "      <th>0</th>\n",
              "      <td>1</td>\n",
              "      <td>1</td>\n",
              "      <td>female</td>\n",
              "      <td>29.00</td>\n",
              "      <td>0</td>\n",
              "      <td>0</td>\n",
              "      <td>211.3375</td>\n",
              "      <td>S</td>\n",
              "      <td>2</td>\n",
              "    </tr>\n",
              "    <tr>\n",
              "      <th>1</th>\n",
              "      <td>1</td>\n",
              "      <td>1</td>\n",
              "      <td>male</td>\n",
              "      <td>0.92</td>\n",
              "      <td>1</td>\n",
              "      <td>2</td>\n",
              "      <td>151.5500</td>\n",
              "      <td>S</td>\n",
              "      <td>11</td>\n",
              "    </tr>\n",
              "    <tr>\n",
              "      <th>2</th>\n",
              "      <td>1</td>\n",
              "      <td>0</td>\n",
              "      <td>female</td>\n",
              "      <td>2.00</td>\n",
              "      <td>1</td>\n",
              "      <td>2</td>\n",
              "      <td>151.5500</td>\n",
              "      <td>S</td>\n",
              "      <td>NaN</td>\n",
              "    </tr>\n",
              "    <tr>\n",
              "      <th>3</th>\n",
              "      <td>1</td>\n",
              "      <td>0</td>\n",
              "      <td>male</td>\n",
              "      <td>30.00</td>\n",
              "      <td>1</td>\n",
              "      <td>2</td>\n",
              "      <td>151.5500</td>\n",
              "      <td>S</td>\n",
              "      <td>NaN</td>\n",
              "    </tr>\n",
              "    <tr>\n",
              "      <th>4</th>\n",
              "      <td>1</td>\n",
              "      <td>0</td>\n",
              "      <td>female</td>\n",
              "      <td>25.00</td>\n",
              "      <td>1</td>\n",
              "      <td>2</td>\n",
              "      <td>151.5500</td>\n",
              "      <td>S</td>\n",
              "      <td>NaN</td>\n",
              "    </tr>\n",
              "  </tbody>\n",
              "</table>\n",
              "</div>"
            ],
            "text/plain": [
              "   pclass  survived     sex    age  sibsp  parch      fare embarked boat\n",
              "0       1         1  female  29.00      0      0  211.3375        S    2\n",
              "1       1         1    male   0.92      1      2  151.5500        S   11\n",
              "2       1         0  female   2.00      1      2  151.5500        S  NaN\n",
              "3       1         0    male  30.00      1      2  151.5500        S  NaN\n",
              "4       1         0  female  25.00      1      2  151.5500        S  NaN"
            ]
          },
          "metadata": {},
          "execution_count": 72
        }
      ]
    },
    {
      "cell_type": "markdown",
      "metadata": {
        "id": "kv7NsoTEm_zU"
      },
      "source": [
        "Atribut-atribut tersebut dianggap tidak penting berdasarkan pertimbangan, nalar, atau basic knowledge manusia. Sebagai contoh, apabila kita ingin mengukur survival rate penumpang Titanic, atribut nama pada dataset ini tidak mengindikasikan apakah dia survive apa tidak. Selain itu, ada beberapa atribut juga yang mungkin tidak akan mempengaruhi pengukuran tersebut. Sehingga atribut-atribut tersebut dapat didrop.\n"
      ]
    },
    {
      "cell_type": "markdown",
      "metadata": {
        "id": "2wg_F4N3tQPn"
      },
      "source": [
        "Atribut perlu didrop apabila:\n",
        "\n",
        "*   Atribut tidak intuitif.\n",
        "*   Atribut mempunyai banyak missing values.\n",
        "*   Atribut tidak informatif.\n",
        "*   Atribut dapat membahayakan untuk model tertentu.\n",
        "*   Atribut tersebut dapat dihasilkan dari atribut yang lain.\n",
        "\n"
      ]
    },
    {
      "cell_type": "code",
      "metadata": {
        "id": "TSXGJngarAAT",
        "colab": {
          "base_uri": "https://localhost:8080/"
        },
        "outputId": "09530f01-3f12-4a63-9fbe-525381e1a537"
      },
      "source": [
        "cek_null(titanic_cleaned)"
      ],
      "execution_count": 73,
      "outputs": [
        {
          "output_type": "stream",
          "name": "stdout",
          "text": [
            "          Total   Percent\n",
            "boat        823  0.628724\n",
            "age         263  0.200917\n",
            "embarked      2  0.001528\n",
            "fare          1  0.000764\n"
          ]
        }
      ]
    },
    {
      "cell_type": "markdown",
      "metadata": {
        "id": "e7Q-qUDPz-Rm"
      },
      "source": [
        "Setelah atribut yang tidak penting dihapus, perlu ditangani atribut yang masih mengandung null value."
      ]
    },
    {
      "cell_type": "code",
      "metadata": {
        "id": "vlyjIawArFUI"
      },
      "source": [
        "# Untuk atribut boat, null value akan diisi dengan \"None\"\n",
        "titanic_cleaned['boat'] = titanic_cleaned['boat'].fillna('None')"
      ],
      "execution_count": 74,
      "outputs": []
    },
    {
      "cell_type": "code",
      "metadata": {
        "id": "IMbQ5pRDrgIu",
        "colab": {
          "base_uri": "https://localhost:8080/",
          "height": 958
        },
        "outputId": "dd6fc5b4-70f6-4467-c0d0-f2bfc4f9eeeb"
      },
      "source": [
        "# Check jumlah yg survived dan tidak jika mempunyai boat atau tidak\n",
        "(titanic_cleaned\n",
        " .groupby([titanic_cleaned.boat,'survived'])\n",
        " .boat\n",
        " .count()\n",
        " .unstack())"
      ],
      "execution_count": 75,
      "outputs": [
        {
          "output_type": "execute_result",
          "data": {
            "text/html": [
              "<div>\n",
              "<style scoped>\n",
              "    .dataframe tbody tr th:only-of-type {\n",
              "        vertical-align: middle;\n",
              "    }\n",
              "\n",
              "    .dataframe tbody tr th {\n",
              "        vertical-align: top;\n",
              "    }\n",
              "\n",
              "    .dataframe thead th {\n",
              "        text-align: right;\n",
              "    }\n",
              "</style>\n",
              "<table border=\"1\" class=\"dataframe\">\n",
              "  <thead>\n",
              "    <tr style=\"text-align: right;\">\n",
              "      <th>survived</th>\n",
              "      <th>0</th>\n",
              "      <th>1</th>\n",
              "    </tr>\n",
              "    <tr>\n",
              "      <th>boat</th>\n",
              "      <th></th>\n",
              "      <th></th>\n",
              "    </tr>\n",
              "  </thead>\n",
              "  <tbody>\n",
              "    <tr>\n",
              "      <th>1</th>\n",
              "      <td>NaN</td>\n",
              "      <td>5.0</td>\n",
              "    </tr>\n",
              "    <tr>\n",
              "      <th>10</th>\n",
              "      <td>NaN</td>\n",
              "      <td>29.0</td>\n",
              "    </tr>\n",
              "    <tr>\n",
              "      <th>11</th>\n",
              "      <td>NaN</td>\n",
              "      <td>25.0</td>\n",
              "    </tr>\n",
              "    <tr>\n",
              "      <th>12</th>\n",
              "      <td>1.0</td>\n",
              "      <td>18.0</td>\n",
              "    </tr>\n",
              "    <tr>\n",
              "      <th>13</th>\n",
              "      <td>NaN</td>\n",
              "      <td>39.0</td>\n",
              "    </tr>\n",
              "    <tr>\n",
              "      <th>13 15</th>\n",
              "      <td>NaN</td>\n",
              "      <td>2.0</td>\n",
              "    </tr>\n",
              "    <tr>\n",
              "      <th>13 15 B</th>\n",
              "      <td>NaN</td>\n",
              "      <td>1.0</td>\n",
              "    </tr>\n",
              "    <tr>\n",
              "      <th>14</th>\n",
              "      <td>1.0</td>\n",
              "      <td>32.0</td>\n",
              "    </tr>\n",
              "    <tr>\n",
              "      <th>15</th>\n",
              "      <td>NaN</td>\n",
              "      <td>37.0</td>\n",
              "    </tr>\n",
              "    <tr>\n",
              "      <th>15 16</th>\n",
              "      <td>NaN</td>\n",
              "      <td>1.0</td>\n",
              "    </tr>\n",
              "    <tr>\n",
              "      <th>16</th>\n",
              "      <td>NaN</td>\n",
              "      <td>23.0</td>\n",
              "    </tr>\n",
              "    <tr>\n",
              "      <th>2</th>\n",
              "      <td>NaN</td>\n",
              "      <td>13.0</td>\n",
              "    </tr>\n",
              "    <tr>\n",
              "      <th>3</th>\n",
              "      <td>NaN</td>\n",
              "      <td>26.0</td>\n",
              "    </tr>\n",
              "    <tr>\n",
              "      <th>4</th>\n",
              "      <td>NaN</td>\n",
              "      <td>31.0</td>\n",
              "    </tr>\n",
              "    <tr>\n",
              "      <th>5</th>\n",
              "      <td>NaN</td>\n",
              "      <td>27.0</td>\n",
              "    </tr>\n",
              "    <tr>\n",
              "      <th>5 7</th>\n",
              "      <td>NaN</td>\n",
              "      <td>2.0</td>\n",
              "    </tr>\n",
              "    <tr>\n",
              "      <th>5 9</th>\n",
              "      <td>NaN</td>\n",
              "      <td>1.0</td>\n",
              "    </tr>\n",
              "    <tr>\n",
              "      <th>6</th>\n",
              "      <td>NaN</td>\n",
              "      <td>20.0</td>\n",
              "    </tr>\n",
              "    <tr>\n",
              "      <th>7</th>\n",
              "      <td>NaN</td>\n",
              "      <td>23.0</td>\n",
              "    </tr>\n",
              "    <tr>\n",
              "      <th>8</th>\n",
              "      <td>NaN</td>\n",
              "      <td>23.0</td>\n",
              "    </tr>\n",
              "    <tr>\n",
              "      <th>8 10</th>\n",
              "      <td>NaN</td>\n",
              "      <td>1.0</td>\n",
              "    </tr>\n",
              "    <tr>\n",
              "      <th>9</th>\n",
              "      <td>NaN</td>\n",
              "      <td>25.0</td>\n",
              "    </tr>\n",
              "    <tr>\n",
              "      <th>A</th>\n",
              "      <td>4.0</td>\n",
              "      <td>7.0</td>\n",
              "    </tr>\n",
              "    <tr>\n",
              "      <th>B</th>\n",
              "      <td>1.0</td>\n",
              "      <td>8.0</td>\n",
              "    </tr>\n",
              "    <tr>\n",
              "      <th>C</th>\n",
              "      <td>1.0</td>\n",
              "      <td>37.0</td>\n",
              "    </tr>\n",
              "    <tr>\n",
              "      <th>C D</th>\n",
              "      <td>NaN</td>\n",
              "      <td>2.0</td>\n",
              "    </tr>\n",
              "    <tr>\n",
              "      <th>D</th>\n",
              "      <td>1.0</td>\n",
              "      <td>19.0</td>\n",
              "    </tr>\n",
              "    <tr>\n",
              "      <th>None</th>\n",
              "      <td>800.0</td>\n",
              "      <td>23.0</td>\n",
              "    </tr>\n",
              "  </tbody>\n",
              "</table>\n",
              "</div>"
            ],
            "text/plain": [
              "survived      0     1\n",
              "boat                 \n",
              "1           NaN   5.0\n",
              "10          NaN  29.0\n",
              "11          NaN  25.0\n",
              "12          1.0  18.0\n",
              "13          NaN  39.0\n",
              "13 15       NaN   2.0\n",
              "13 15 B     NaN   1.0\n",
              "14          1.0  32.0\n",
              "15          NaN  37.0\n",
              "15 16       NaN   1.0\n",
              "16          NaN  23.0\n",
              "2           NaN  13.0\n",
              "3           NaN  26.0\n",
              "4           NaN  31.0\n",
              "5           NaN  27.0\n",
              "5 7         NaN   2.0\n",
              "5 9         NaN   1.0\n",
              "6           NaN  20.0\n",
              "7           NaN  23.0\n",
              "8           NaN  23.0\n",
              "8 10        NaN   1.0\n",
              "9           NaN  25.0\n",
              "A           4.0   7.0\n",
              "B           1.0   8.0\n",
              "C           1.0  37.0\n",
              "C D         NaN   2.0\n",
              "D           1.0  19.0\n",
              "None      800.0  23.0"
            ]
          },
          "metadata": {},
          "execution_count": 75
        }
      ]
    },
    {
      "cell_type": "code",
      "metadata": {
        "id": "IIZieScPrn5K",
        "colab": {
          "base_uri": "https://localhost:8080/"
        },
        "outputId": "dc686c53-4266-43eb-cbf5-00c1da4625a3"
      },
      "source": [
        "cek_null(titanic_cleaned)"
      ],
      "execution_count": 76,
      "outputs": [
        {
          "output_type": "stream",
          "name": "stdout",
          "text": [
            "          Total   Percent\n",
            "age         263  0.200917\n",
            "embarked      2  0.001528\n",
            "fare          1  0.000764\n"
          ]
        }
      ]
    },
    {
      "cell_type": "code",
      "metadata": {
        "id": "NKY1kVzWrpsV"
      },
      "source": [
        "# Untuk atribute \"age\", null value akan diisi dengan nilai median\n",
        "col = [\"age\"]\n",
        "for c in col:\n",
        "    median = titanic_cleaned[~titanic_cleaned.isna()].median()[0]\n",
        "    titanic_cleaned[c] = titanic_cleaned[c].fillna(median)"
      ],
      "execution_count": 77,
      "outputs": []
    },
    {
      "cell_type": "code",
      "metadata": {
        "id": "tiiVQranr7IZ"
      },
      "source": [
        "# Untuk atribute \"embarked\", null value akan diisi dengan nilai 'C'\n",
        "titanic_cleaned[\"embarked\"] = titanic_cleaned[\"embarked\"].fillna('C')"
      ],
      "execution_count": 78,
      "outputs": []
    },
    {
      "cell_type": "code",
      "metadata": {
        "id": "4bOiT1f9t34j",
        "colab": {
          "base_uri": "https://localhost:8080/"
        },
        "outputId": "f7c0ccb0-94bc-4e42-e2d8-94226256b166"
      },
      "source": [
        "cek_null(titanic_cleaned)"
      ],
      "execution_count": 79,
      "outputs": [
        {
          "output_type": "stream",
          "name": "stdout",
          "text": [
            "      Total   Percent\n",
            "fare      1  0.000764\n"
          ]
        }
      ]
    },
    {
      "cell_type": "code",
      "metadata": {
        "id": "voxx4-qyOVGI",
        "colab": {
          "base_uri": "https://localhost:8080/",
          "height": 81
        },
        "outputId": "a5823ae7-bc69-4641-8e40-953d1c5b0b25"
      },
      "source": [
        "# Tinggal atribute \"fare\" yang memiliki 1 baris nilai null\n",
        "titanic_cleaned[titanic_cleaned['fare'].isnull()]"
      ],
      "execution_count": 80,
      "outputs": [
        {
          "output_type": "execute_result",
          "data": {
            "text/html": [
              "<div>\n",
              "<style scoped>\n",
              "    .dataframe tbody tr th:only-of-type {\n",
              "        vertical-align: middle;\n",
              "    }\n",
              "\n",
              "    .dataframe tbody tr th {\n",
              "        vertical-align: top;\n",
              "    }\n",
              "\n",
              "    .dataframe thead th {\n",
              "        text-align: right;\n",
              "    }\n",
              "</style>\n",
              "<table border=\"1\" class=\"dataframe\">\n",
              "  <thead>\n",
              "    <tr style=\"text-align: right;\">\n",
              "      <th></th>\n",
              "      <th>pclass</th>\n",
              "      <th>survived</th>\n",
              "      <th>sex</th>\n",
              "      <th>age</th>\n",
              "      <th>sibsp</th>\n",
              "      <th>parch</th>\n",
              "      <th>fare</th>\n",
              "      <th>embarked</th>\n",
              "      <th>boat</th>\n",
              "    </tr>\n",
              "  </thead>\n",
              "  <tbody>\n",
              "    <tr>\n",
              "      <th>1225</th>\n",
              "      <td>3</td>\n",
              "      <td>0</td>\n",
              "      <td>male</td>\n",
              "      <td>60.5</td>\n",
              "      <td>0</td>\n",
              "      <td>0</td>\n",
              "      <td>NaN</td>\n",
              "      <td>S</td>\n",
              "      <td>None</td>\n",
              "    </tr>\n",
              "  </tbody>\n",
              "</table>\n",
              "</div>"
            ],
            "text/plain": [
              "      pclass  survived   sex   age  sibsp  parch  fare embarked  boat\n",
              "1225       3         0  male  60.5      0      0   NaN        S  None"
            ]
          },
          "metadata": {},
          "execution_count": 80
        }
      ]
    },
    {
      "cell_type": "code",
      "metadata": {
        "id": "vj9pull1OVGK"
      },
      "source": [
        "# Hapus baris yang atribute \"fare\" bernilai null\n",
        "titanic_cleaned.dropna(inplace=True)"
      ],
      "execution_count": 81,
      "outputs": []
    },
    {
      "cell_type": "code",
      "metadata": {
        "id": "ISI2cUbBuapN",
        "colab": {
          "base_uri": "https://localhost:8080/"
        },
        "outputId": "af52671d-2b8c-4cc6-cac2-621f731b8caf"
      },
      "source": [
        "titanic_cleaned.shape"
      ],
      "execution_count": 82,
      "outputs": [
        {
          "output_type": "execute_result",
          "data": {
            "text/plain": [
              "(1308, 9)"
            ]
          },
          "metadata": {},
          "execution_count": 82
        }
      ]
    },
    {
      "cell_type": "code",
      "metadata": {
        "id": "9IFXEigrOVGK",
        "colab": {
          "base_uri": "https://localhost:8080/",
          "height": 206
        },
        "outputId": "7c63a5aa-119e-45e7-9e82-7975e633b59d"
      },
      "source": [
        "titanic_cleaned.head()"
      ],
      "execution_count": 83,
      "outputs": [
        {
          "output_type": "execute_result",
          "data": {
            "text/html": [
              "<div>\n",
              "<style scoped>\n",
              "    .dataframe tbody tr th:only-of-type {\n",
              "        vertical-align: middle;\n",
              "    }\n",
              "\n",
              "    .dataframe tbody tr th {\n",
              "        vertical-align: top;\n",
              "    }\n",
              "\n",
              "    .dataframe thead th {\n",
              "        text-align: right;\n",
              "    }\n",
              "</style>\n",
              "<table border=\"1\" class=\"dataframe\">\n",
              "  <thead>\n",
              "    <tr style=\"text-align: right;\">\n",
              "      <th></th>\n",
              "      <th>pclass</th>\n",
              "      <th>survived</th>\n",
              "      <th>sex</th>\n",
              "      <th>age</th>\n",
              "      <th>sibsp</th>\n",
              "      <th>parch</th>\n",
              "      <th>fare</th>\n",
              "      <th>embarked</th>\n",
              "      <th>boat</th>\n",
              "    </tr>\n",
              "  </thead>\n",
              "  <tbody>\n",
              "    <tr>\n",
              "      <th>0</th>\n",
              "      <td>1</td>\n",
              "      <td>1</td>\n",
              "      <td>female</td>\n",
              "      <td>29.00</td>\n",
              "      <td>0</td>\n",
              "      <td>0</td>\n",
              "      <td>211.3375</td>\n",
              "      <td>S</td>\n",
              "      <td>2</td>\n",
              "    </tr>\n",
              "    <tr>\n",
              "      <th>1</th>\n",
              "      <td>1</td>\n",
              "      <td>1</td>\n",
              "      <td>male</td>\n",
              "      <td>0.92</td>\n",
              "      <td>1</td>\n",
              "      <td>2</td>\n",
              "      <td>151.5500</td>\n",
              "      <td>S</td>\n",
              "      <td>11</td>\n",
              "    </tr>\n",
              "    <tr>\n",
              "      <th>2</th>\n",
              "      <td>1</td>\n",
              "      <td>0</td>\n",
              "      <td>female</td>\n",
              "      <td>2.00</td>\n",
              "      <td>1</td>\n",
              "      <td>2</td>\n",
              "      <td>151.5500</td>\n",
              "      <td>S</td>\n",
              "      <td>None</td>\n",
              "    </tr>\n",
              "    <tr>\n",
              "      <th>3</th>\n",
              "      <td>1</td>\n",
              "      <td>0</td>\n",
              "      <td>male</td>\n",
              "      <td>30.00</td>\n",
              "      <td>1</td>\n",
              "      <td>2</td>\n",
              "      <td>151.5500</td>\n",
              "      <td>S</td>\n",
              "      <td>None</td>\n",
              "    </tr>\n",
              "    <tr>\n",
              "      <th>4</th>\n",
              "      <td>1</td>\n",
              "      <td>0</td>\n",
              "      <td>female</td>\n",
              "      <td>25.00</td>\n",
              "      <td>1</td>\n",
              "      <td>2</td>\n",
              "      <td>151.5500</td>\n",
              "      <td>S</td>\n",
              "      <td>None</td>\n",
              "    </tr>\n",
              "  </tbody>\n",
              "</table>\n",
              "</div>"
            ],
            "text/plain": [
              "   pclass  survived     sex    age  sibsp  parch      fare embarked  boat\n",
              "0       1         1  female  29.00      0      0  211.3375        S     2\n",
              "1       1         1    male   0.92      1      2  151.5500        S    11\n",
              "2       1         0  female   2.00      1      2  151.5500        S  None\n",
              "3       1         0    male  30.00      1      2  151.5500        S  None\n",
              "4       1         0  female  25.00      1      2  151.5500        S  None"
            ]
          },
          "metadata": {},
          "execution_count": 83
        }
      ]
    },
    {
      "cell_type": "code",
      "metadata": {
        "id": "fwlxWzK7ujcs",
        "colab": {
          "base_uri": "https://localhost:8080/"
        },
        "outputId": "7d286da3-126d-4a7f-aa3b-0d7c9a0614a4"
      },
      "source": [
        "titanic_cleaned.info()"
      ],
      "execution_count": 84,
      "outputs": [
        {
          "output_type": "stream",
          "name": "stdout",
          "text": [
            "<class 'pandas.core.frame.DataFrame'>\n",
            "Int64Index: 1308 entries, 0 to 1308\n",
            "Data columns (total 9 columns):\n",
            " #   Column    Non-Null Count  Dtype  \n",
            "---  ------    --------------  -----  \n",
            " 0   pclass    1308 non-null   int64  \n",
            " 1   survived  1308 non-null   int64  \n",
            " 2   sex       1308 non-null   object \n",
            " 3   age       1308 non-null   float64\n",
            " 4   sibsp     1308 non-null   int64  \n",
            " 5   parch     1308 non-null   int64  \n",
            " 6   fare      1308 non-null   float64\n",
            " 7   embarked  1308 non-null   object \n",
            " 8   boat      1308 non-null   object \n",
            "dtypes: float64(2), int64(4), object(3)\n",
            "memory usage: 102.2+ KB\n"
          ]
        }
      ]
    },
    {
      "cell_type": "code",
      "metadata": {
        "id": "YBTW9QWaunGK"
      },
      "source": [
        "# Melakukan label encoding, untuk mengubah data kategorikal bertipe string ke numeric value\n",
        "col = titanic_cleaned.select_dtypes(include=[\"object\"]).columns\n",
        "\n",
        "for c in col:\n",
        "    if len(titanic_cleaned[c].value_counts()) <= 28:\n",
        "        le = LabelEncoder() \n",
        "        le.fit(list(titanic_cleaned[c].values)) \n",
        "        titanic_cleaned[c] = le.transform(list(titanic_cleaned[c].values))"
      ],
      "execution_count": 85,
      "outputs": []
    },
    {
      "cell_type": "code",
      "metadata": {
        "id": "oF5FvWysu97L",
        "colab": {
          "base_uri": "https://localhost:8080/",
          "height": 206
        },
        "outputId": "7c0c9a6d-8624-42ec-802e-e6eddde390bb"
      },
      "source": [
        "titanic_cleaned.head()"
      ],
      "execution_count": 86,
      "outputs": [
        {
          "output_type": "execute_result",
          "data": {
            "text/html": [
              "<div>\n",
              "<style scoped>\n",
              "    .dataframe tbody tr th:only-of-type {\n",
              "        vertical-align: middle;\n",
              "    }\n",
              "\n",
              "    .dataframe tbody tr th {\n",
              "        vertical-align: top;\n",
              "    }\n",
              "\n",
              "    .dataframe thead th {\n",
              "        text-align: right;\n",
              "    }\n",
              "</style>\n",
              "<table border=\"1\" class=\"dataframe\">\n",
              "  <thead>\n",
              "    <tr style=\"text-align: right;\">\n",
              "      <th></th>\n",
              "      <th>pclass</th>\n",
              "      <th>survived</th>\n",
              "      <th>sex</th>\n",
              "      <th>age</th>\n",
              "      <th>sibsp</th>\n",
              "      <th>parch</th>\n",
              "      <th>fare</th>\n",
              "      <th>embarked</th>\n",
              "      <th>boat</th>\n",
              "    </tr>\n",
              "  </thead>\n",
              "  <tbody>\n",
              "    <tr>\n",
              "      <th>0</th>\n",
              "      <td>1</td>\n",
              "      <td>1</td>\n",
              "      <td>0</td>\n",
              "      <td>29.00</td>\n",
              "      <td>0</td>\n",
              "      <td>0</td>\n",
              "      <td>211.3375</td>\n",
              "      <td>2</td>\n",
              "      <td>11</td>\n",
              "    </tr>\n",
              "    <tr>\n",
              "      <th>1</th>\n",
              "      <td>1</td>\n",
              "      <td>1</td>\n",
              "      <td>1</td>\n",
              "      <td>0.92</td>\n",
              "      <td>1</td>\n",
              "      <td>2</td>\n",
              "      <td>151.5500</td>\n",
              "      <td>2</td>\n",
              "      <td>2</td>\n",
              "    </tr>\n",
              "    <tr>\n",
              "      <th>2</th>\n",
              "      <td>1</td>\n",
              "      <td>0</td>\n",
              "      <td>0</td>\n",
              "      <td>2.00</td>\n",
              "      <td>1</td>\n",
              "      <td>2</td>\n",
              "      <td>151.5500</td>\n",
              "      <td>2</td>\n",
              "      <td>27</td>\n",
              "    </tr>\n",
              "    <tr>\n",
              "      <th>3</th>\n",
              "      <td>1</td>\n",
              "      <td>0</td>\n",
              "      <td>1</td>\n",
              "      <td>30.00</td>\n",
              "      <td>1</td>\n",
              "      <td>2</td>\n",
              "      <td>151.5500</td>\n",
              "      <td>2</td>\n",
              "      <td>27</td>\n",
              "    </tr>\n",
              "    <tr>\n",
              "      <th>4</th>\n",
              "      <td>1</td>\n",
              "      <td>0</td>\n",
              "      <td>0</td>\n",
              "      <td>25.00</td>\n",
              "      <td>1</td>\n",
              "      <td>2</td>\n",
              "      <td>151.5500</td>\n",
              "      <td>2</td>\n",
              "      <td>27</td>\n",
              "    </tr>\n",
              "  </tbody>\n",
              "</table>\n",
              "</div>"
            ],
            "text/plain": [
              "   pclass  survived  sex    age  sibsp  parch      fare  embarked  boat\n",
              "0       1         1    0  29.00      0      0  211.3375         2    11\n",
              "1       1         1    1   0.92      1      2  151.5500         2     2\n",
              "2       1         0    0   2.00      1      2  151.5500         2    27\n",
              "3       1         0    1  30.00      1      2  151.5500         2    27\n",
              "4       1         0    0  25.00      1      2  151.5500         2    27"
            ]
          },
          "metadata": {},
          "execution_count": 86
        }
      ]
    },
    {
      "cell_type": "code",
      "metadata": {
        "id": "xBtyn8GqvKyB",
        "colab": {
          "base_uri": "https://localhost:8080/"
        },
        "outputId": "529a7cf5-5985-4a5a-ddc1-12f9b985500c"
      },
      "source": [
        "titanic_cleaned.info()"
      ],
      "execution_count": 87,
      "outputs": [
        {
          "output_type": "stream",
          "name": "stdout",
          "text": [
            "<class 'pandas.core.frame.DataFrame'>\n",
            "Int64Index: 1308 entries, 0 to 1308\n",
            "Data columns (total 9 columns):\n",
            " #   Column    Non-Null Count  Dtype  \n",
            "---  ------    --------------  -----  \n",
            " 0   pclass    1308 non-null   int64  \n",
            " 1   survived  1308 non-null   int64  \n",
            " 2   sex       1308 non-null   int64  \n",
            " 3   age       1308 non-null   float64\n",
            " 4   sibsp     1308 non-null   int64  \n",
            " 5   parch     1308 non-null   int64  \n",
            " 6   fare      1308 non-null   float64\n",
            " 7   embarked  1308 non-null   int64  \n",
            " 8   boat      1308 non-null   int64  \n",
            "dtypes: float64(2), int64(7)\n",
            "memory usage: 102.2 KB\n"
          ]
        }
      ]
    },
    {
      "cell_type": "markdown",
      "metadata": {
        "id": "6nDpp29PwYOk"
      },
      "source": [
        "## Preparation for Machine Learning"
      ]
    },
    {
      "cell_type": "markdown",
      "metadata": {
        "id": "fM4zMQnVz-Rp"
      },
      "source": [
        "Misalkan kita diberikan tugas untuk melakukan prediksi apakah seseorang akan selamat dari bencana Titanic atau tidak. Atribut yang menjadi target adalah \"survived\", sedangkan atribut lainnya menjadi *predictor* (fitur yang akan menentukan hasil prediksi).\n",
        "\n",
        "Beberapa pemrosesan yang dapat dilakukan sebelum data kita dimasukkan ke dalam algoritma *machine learning* di antaranya (tapi tidak terbatas pada):\n",
        "* Memisahkan atribut target dan atribut *predictor*\n",
        "* Melakukan normalisasi jika diperlukan\n",
        "* Memisahkan data menjadi data *training* dan *testing* (Akan dibahas pada beberapa Lab selanjutnya)"
      ]
    },
    {
      "cell_type": "code",
      "metadata": {
        "id": "mSFQ0swwvj1U"
      },
      "source": [
        "# Memisahkan atribut target (Y) dengan atribut predictor (X)\n",
        "X = titanic_cleaned.drop('survived', axis=1)\n",
        "Y = titanic_cleaned['survived']"
      ],
      "execution_count": 88,
      "outputs": []
    },
    {
      "cell_type": "markdown",
      "metadata": {
        "id": "PKskkBe55OBI"
      },
      "source": [
        "### **SOAL 3**\n",
        "\n",
        "(a) Lakukan normalisasi pada X. Implementasikan dengan code! Hint: [Dokumentasi Preprocessing Data](https://scikit-learn.org/stable/modules/preprocessing.html#standardization-or-mean-removal-and-variance-scaling)"
      ]
    },
    {
      "cell_type": "code",
      "metadata": {
        "id": "WmTNVF8kwQcC",
        "colab": {
          "base_uri": "https://localhost:8080/"
        },
        "outputId": "702f88bf-3037-443a-f6f1-d6a6f122209b"
      },
      "source": [
        "# 3(a) Implementasi code di sini\n",
        "# from sklearn.preprocessing import LabelEncoder, Normalizer, StandardScaler\n",
        "#Normalization is the process of scaling individual samples to have unit norm. \n",
        "#This process can be useful if you plan to use a quadratic form such as the dot-product \n",
        "#or any other kernel to quantify the similarity of any pair of samples.\n",
        "\n",
        "#This assumption is the base of the Vector Space Model often used in text classification and clustering contexts.\n",
        "\n",
        "X_normalized = Normalizer().fit(X)\n",
        "print(X_normalized)"
      ],
      "execution_count": 95,
      "outputs": [
        {
          "output_type": "stream",
          "name": "stdout",
          "text": [
            "Normalizer(copy=True, norm='l2')\n"
          ]
        }
      ]
    },
    {
      "cell_type": "markdown",
      "metadata": {
        "id": "n2F8ksSpz-Rp"
      },
      "source": [
        "(b) Bentuk normalisasi apa yang Anda pilih? Apa alasannya? \n",
        "\n",
        "> Bentuk normalisasi l2. Bentuk normalisasi l2 ini membuat least square solution - metodenya menjaga koefisien model kecil sehingga model lebih tidak kompleks."
      ]
    },
    {
      "cell_type": "markdown",
      "metadata": {
        "id": "IEdkNNOqz-Rp"
      },
      "source": [
        "(c) Menurut Anda, mengapa normalisasi perlu dilakukan? \n",
        "> Normalisasi berguna jika bentuk kuadrat - quadratic form seperti dot product atau kernel lainnya digunakan, untuk mengukur kesamaan pasangan sampel mana pun."
      ]
    }
  ]
}